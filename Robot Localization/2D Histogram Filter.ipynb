{
 "cells": [
  {
   "cell_type": "markdown",
   "metadata": {},
   "source": [
    "### Two Dimensional Histogram Filter \n",
    "\n",
    "Part 1: Exploring the code\n",
    "\n",
    "In this section, We will just run some existing code to get a feel for what this localizer does."
   ]
  },
  {
   "cell_type": "code",
   "execution_count": 1,
   "metadata": {},
   "outputs": [],
   "source": [
    "from __future__ import division, print_function\n",
    "# This code \"imports\" code from some of the other files we've written\n",
    "# in this directory. Specifically simulate.py and helpers.py\n",
    "import simulate as sim\n",
    "import helpers\n",
    "import localizer\n",
    "\n",
    "# Don't worry too much about this code for now...\n",
    "\n",
    "%load_ext autoreload\n",
    "%autoreload 2"
   ]
  },
  {
   "cell_type": "code",
   "execution_count": 2,
   "metadata": {},
   "outputs": [
    {
     "name": "stdout",
     "output_type": "stream",
     "text": [
      "initialize_beliefs:  [[0.04, 0.04, 0.04, 0.04, 0.04], [0.04, 0.04, 0.04, 0.04, 0.04], [0.04, 0.04, 0.04, 0.04, 0.04], [0.04, 0.04, 0.04, 0.04, 0.04], [0.04, 0.04, 0.04, 0.04, 0.04]]\n",
      "All colors: ['r', 'g']\n"
     ]
    },
    {
     "data": {
      "image/png": "[encoded data removed]",
      "text/plain": [
       "<Figure size 432x288 with 1 Axes>"
      ]
     },
     "metadata": {
      "needs_background": "light"
     },
     "output_type": "display_data"
    }
   ],
   "source": [
    "# This code defines a 5x5 robot world as well as some other parameters\n",
    "# which we will discuss later. It then creates a simulation and shows \n",
    "# the initial beliefs. \n",
    "R = 'r'\n",
    "G = 'g'\n",
    "grid = [\n",
    "    [R,G,G,G,R],\n",
    "    [G,G,R,G,R],\n",
    "    [G,R,G,G,G],\n",
    "    [R,R,G,R,G],\n",
    "    [R,G,R,G,R],\n",
    "]\n",
    "blur = 0.05\n",
    "p_hit = 200.0\n",
    "simulation = sim.Simulation(grid, blur, p_hit)\n",
    "simulation.show_beliefs()"
   ]
  },
  {
   "cell_type": "code",
   "execution_count": 3,
   "metadata": {},
   "outputs": [
    {
     "name": "stdout",
     "output_type": "stream",
     "text": [
      "New Beliefs:  [[0.00035574528637495557, 0.0711490572749911, 0.0711490572749911, 0.0711490572749911, 0.00035574528637495557], [0.0711490572749911, 0.0711490572749911, 0.00035574528637495557, 0.0711490572749911, 0.00035574528637495557], [0.0711490572749911, 0.00035574528637495557, 0.0711490572749911, 0.0711490572749911, 0.0711490572749911], [0.00035574528637495557, 0.00035574528637495557, 0.0711490572749911, 0.00035574528637495557, 0.0711490572749911], [0.00035574528637495557, 0.0711490572749911, 0.00035574528637495557, 0.0711490572749911, 0.00035574528637495557]]\n",
      "dy value is  1 dx value is  -1\n",
      "Move  [[0.0711490572749911, 0.00035574528637495557, 0.0711490572749911, 0.00035574528637495557, 0.00035574528637495557], [0.0711490572749911, 0.0711490572749911, 0.0711490572749911, 0.00035574528637495557, 0.00035574528637495557], [0.0711490572749911, 0.00035574528637495557, 0.0711490572749911, 0.00035574528637495557, 0.0711490572749911], [0.00035574528637495557, 0.0711490572749911, 0.0711490572749911, 0.0711490572749911, 0.0711490572749911], [0.00035574528637495557, 0.0711490572749911, 0.00035574528637495557, 0.0711490572749911, 0.00035574528637495557]] \n",
      "\n",
      "Blur Value:  0.05\n"
     ]
    },
    {
     "data": {
      "image/png": "[encoded data removed]",
      "text/plain": [
       "<Figure size 432x288 with 1 Axes>"
      ]
     },
     "metadata": {
      "needs_background": "light"
     },
     "output_type": "display_data"
    }
   ],
   "source": [
    "simulation.run(1)\n",
    "simulation.show_beliefs()"
   ]
  },
  {
   "cell_type": "code",
   "execution_count": 4,
   "metadata": {},
   "outputs": [],
   "source": [
    "# We will provide you with the function below to help you look\n",
    "# at the raw numbers.\n",
    "\n",
    "def show_rounded_beliefs(beliefs):\n",
    "    for row in beliefs:\n",
    "        for belief in row:\n",
    "            print(\"{:0.3f}\".format(belief), end=\"  \")\n",
    "        print()\n",
    "        \n",
    "# The {:0.3f} notation is an example of \"string \n",
    "# formatting\" in Python. You can learn more about string \n",
    "# formatting at https://pyformat.info/"
   ]
  },
  {
   "cell_type": "code",
   "execution_count": 5,
   "metadata": {},
   "outputs": [
    {
     "name": "stdout",
     "output_type": "stream",
     "text": [
      "0.069  0.003  0.069  0.002  0.002  \n",
      "0.070  0.070  0.069  0.002  0.002  \n",
      "0.070  0.004  0.070  0.003  0.069  \n",
      "0.003  0.069  0.070  0.070  0.069  \n",
      "0.002  0.069  0.003  0.069  0.002  \n"
     ]
    }
   ],
   "source": [
    "show_rounded_beliefs(simulation.beliefs)"
   ]
  },
  {
   "cell_type": "markdown",
   "metadata": {},
   "source": [
    "### Part 2: Implement a 2D sense function.\n",
    "\n",
    "As you can see, the robot's beliefs aren't changing. No matter how many times we call the simulation's sense method, nothing happens. The beliefs remain uniform.\n",
    "\n",
    "#### Instructions\n",
    "\n",
    "Open localizer.py and complete the sense function.\n",
    "\n",
    "Run the code in the cell below to import the localizer module (or reload it) and then test your sense function.\n",
    "\n",
    "If the test passes, you've successfully implemented your first feature! Keep going with the project. If your tests don't pass (they likely won't the first few times you test), keep making modifications to the sense function until they do!"
   ]
  },
  {
   "cell_type": "code",
   "execution_count": 6,
   "metadata": {},
   "outputs": [
    {
     "name": "stdout",
     "output_type": "stream",
     "text": [
      "Manually Calculated Beliefs  [[0.09090909090909091, 0.09090909090909091, 0.09090909090909091], [0.09090909090909091, 0.2727272727272727, 0.09090909090909091], [0.09090909090909091, 0.09090909090909091, 0.09090909090909091]] \n",
      "\n",
      "Beliefs after Sensing  [[0.09090909090909091, 0.09090909090909091, 0.09090909090909091], [0.09090909090909091, 0.27272727272727276, 0.09090909090909091], [0.09090909090909091, 0.09090909090909091, 0.09090909090909091]]\n",
      "Tests pass! Your sense function is working as expected\n"
     ]
    }
   ],
   "source": [
    "def test_sense():\n",
    "    R = 'r'\n",
    "    _ = 'g'\n",
    "\n",
    "    simple_grid = [\n",
    "        [_,_,_],\n",
    "        [_,R,_],\n",
    "        [_,_,_]\n",
    "    ]\n",
    "\n",
    "    p = 1.0 / 9\n",
    "    initial_beliefs = [\n",
    "        [p,p,p],\n",
    "        [p,p,p],\n",
    "        [p,p,p]\n",
    "    ]\n",
    "\n",
    "    observation = R\n",
    "\n",
    "    expected_beliefs_after = [\n",
    "        [1/11, 1/11, 1/11],\n",
    "        [1/11, 3/11, 1/11],\n",
    "        [1/11, 1/11, 1/11]\n",
    "    ]\n",
    "\n",
    "    p_hit  = 3.0\n",
    "    p_miss = 1.0\n",
    "    beliefs_after_sensing = localizer.sense(\n",
    "        observation, simple_grid, initial_beliefs, p_hit, p_miss)\n",
    "    \n",
    "    print(\"Manually Calculated Beliefs \",expected_beliefs_after,\"\\n\")\n",
    "    print(\"Beliefs after Sensing \",beliefs_after_sensing)\n",
    "\n",
    "\n",
    "    if helpers.close_enough(beliefs_after_sensing, expected_beliefs_after):\n",
    "        print(\"Tests pass! Your sense function is working as expected\")\n",
    "        return\n",
    "    \n",
    "    elif not isinstance(beliefs_after_sensing, list):\n",
    "        print(\"Your sense function doesn't return a list!\")\n",
    "        return\n",
    "        \n",
    "    elif len(beliefs_after_sensing) != len(expected_beliefs_after):\n",
    "        print(\"Dimensionality error! Incorrect height\")\n",
    "        return\n",
    "              \n",
    "    elif len(beliefs_after_sensing[0] ) != len(expected_beliefs_after[0]):\n",
    "        print(\"Dimensionality Error! Incorrect width\")\n",
    "        return\n",
    "    \n",
    "    elif beliefs_after_sensing == initial_beliefs:\n",
    "        print(\"Your code returns the initial beliefs.\")\n",
    "        return\n",
    "        \n",
    "    total_probability = 0.0\n",
    "    for row in beliefs_after_sensing:\n",
    "        for p in row:\n",
    "            total_probability += p\n",
    "    if abs(total_probability-1.0) > 0.001:\n",
    "        \n",
    "        print(\"Your beliefs appear to not be normalized\")\n",
    "        return\n",
    "    \n",
    "    print(\"Something isn't quite right with your sense function\")\n",
    "\n",
    "test_sense()"
   ]
  },
  {
   "cell_type": "markdown",
   "metadata": {},
   "source": [
    "### Integration Testing\n",
    "\n",
    "Before we call this \"complete\" we should perform an integration test. We've verified that the sense function works on it's own, but does the localizer work overall?\n",
    "\n",
    "Let's perform an integration test. First you you should execute the code in the cell below to prepare the simulation environment."
   ]
  },
  {
   "cell_type": "code",
   "execution_count": 7,
   "metadata": {},
   "outputs": [
    {
     "name": "stdout",
     "output_type": "stream",
     "text": [
      "initialize_beliefs:  [[0.02040816326530612, 0.02040816326530612, 0.02040816326530612, 0.02040816326530612, 0.02040816326530612, 0.02040816326530612, 0.02040816326530612], [0.02040816326530612, 0.02040816326530612, 0.02040816326530612, 0.02040816326530612, 0.02040816326530612, 0.02040816326530612, 0.02040816326530612], [0.02040816326530612, 0.02040816326530612, 0.02040816326530612, 0.02040816326530612, 0.02040816326530612, 0.02040816326530612, 0.02040816326530612], [0.02040816326530612, 0.02040816326530612, 0.02040816326530612, 0.02040816326530612, 0.02040816326530612, 0.02040816326530612, 0.02040816326530612], [0.02040816326530612, 0.02040816326530612, 0.02040816326530612, 0.02040816326530612, 0.02040816326530612, 0.02040816326530612, 0.02040816326530612], [0.02040816326530612, 0.02040816326530612, 0.02040816326530612, 0.02040816326530612, 0.02040816326530612, 0.02040816326530612, 0.02040816326530612], [0.02040816326530612, 0.02040816326530612, 0.02040816326530612, 0.02040816326530612, 0.02040816326530612, 0.02040816326530612, 0.02040816326530612]]\n",
      "All colors: ['r', 'g']\n"
     ]
    }
   ],
   "source": [
    "from simulate import Simulation\n",
    "import simulate as sim\n",
    "import helpers\n",
    "# reload(localizer)\n",
    "# reload(sim)\n",
    "# reload(helpers)\n",
    "\n",
    "R = 'r'\n",
    "G = 'g'\n",
    "grid = [\n",
    "    [R,G,G,G,R,R,R],\n",
    "    [G,G,R,G,R,G,R],\n",
    "    [G,R,G,G,G,G,R],\n",
    "    [R,R,G,R,G,G,G],\n",
    "    [R,G,R,G,R,R,R],\n",
    "    [G,R,R,R,G,R,G],\n",
    "    [R,R,R,G,R,G,G],\n",
    "]\n",
    "\n",
    "# Use small value for blur. This parameter is used to represent\n",
    "# the uncertainty in MOTION, not in sensing. We want this test\n",
    "# to focus on sensing functionality\n",
    "blur = 0.1\n",
    "p_hit = 100.0\n",
    "simulation = sim.Simulation(grid, blur, p_hit)"
   ]
  },
  {
   "cell_type": "code",
   "execution_count": 8,
   "metadata": {},
   "outputs": [
    {
     "name": "stdout",
     "output_type": "stream",
     "text": [
      "New Beliefs:  [[0.03961965134706815, 0.0003961965134706814, 0.0003961965134706814, 0.0003961965134706814, 0.03961965134706815, 0.03961965134706815, 0.03961965134706815], [0.0003961965134706814, 0.0003961965134706814, 0.03961965134706815, 0.0003961965134706814, 0.03961965134706815, 0.0003961965134706814, 0.03961965134706815], [0.0003961965134706814, 0.03961965134706815, 0.0003961965134706814, 0.0003961965134706814, 0.0003961965134706814, 0.0003961965134706814, 0.03961965134706815], [0.03961965134706815, 0.03961965134706815, 0.0003961965134706814, 0.03961965134706815, 0.0003961965134706814, 0.0003961965134706814, 0.0003961965134706814], [0.03961965134706815, 0.0003961965134706814, 0.03961965134706815, 0.0003961965134706814, 0.03961965134706815, 0.03961965134706815, 0.03961965134706815], [0.0003961965134706814, 0.03961965134706815, 0.03961965134706815, 0.03961965134706815, 0.0003961965134706814, 0.03961965134706815, 0.0003961965134706814], [0.03961965134706815, 0.03961965134706815, 0.03961965134706815, 0.0003961965134706814, 0.03961965134706815, 0.0003961965134706814, 0.0003961965134706814]]\n",
      "dy value is  1 dx value is  -1\n",
      "Move  [[0.03961965134706815, 0.03961965134706815, 0.0003961965134706814, 0.03961965134706815, 0.0003961965134706814, 0.0003961965134706814, 0.03961965134706815], [0.0003961965134706814, 0.0003961965134706814, 0.0003961965134706814, 0.03961965134706815, 0.03961965134706815, 0.03961965134706815, 0.03961965134706815], [0.0003961965134706814, 0.03961965134706815, 0.0003961965134706814, 0.03961965134706815, 0.0003961965134706814, 0.03961965134706815, 0.0003961965134706814], [0.03961965134706815, 0.0003961965134706814, 0.0003961965134706814, 0.0003961965134706814, 0.0003961965134706814, 0.03961965134706815, 0.0003961965134706814], [0.03961965134706815, 0.0003961965134706814, 0.03961965134706815, 0.0003961965134706814, 0.0003961965134706814, 0.0003961965134706814, 0.03961965134706815], [0.0003961965134706814, 0.03961965134706815, 0.0003961965134706814, 0.03961965134706815, 0.03961965134706815, 0.03961965134706815, 0.03961965134706815], [0.03961965134706815, 0.03961965134706815, 0.03961965134706815, 0.0003961965134706814, 0.03961965134706815, 0.0003961965134706814, 0.0003961965134706814]] \n",
      "\n",
      "Blur Value:  0.1\n"
     ]
    },
    {
     "data": {
      "image/png": "[encoded data removed]",
      "text/plain": [
       "<Figure size 432x288 with 1 Axes>"
      ]
     },
     "metadata": {
      "needs_background": "light"
     },
     "output_type": "display_data"
    }
   ],
   "source": [
    "# Use control+Enter to run this cell many times and observe how \n",
    "# the robot's belief that it is in each cell (represented by the\n",
    "# size of the corresponding circle) changes as the robot moves.\n",
    "# The true position of the robot is given by the red star.\n",
    "\n",
    "# Run this cell about 15-25 times and observe the results\n",
    "simulation.run(1)\n",
    "simulation.show_beliefs()\n",
    "\n",
    "# If everything is working correctly you should see the beliefs\n",
    "# converge to a single large circle at the same position as the \n",
    "# red star. Though, if your sense function is implemented correctly\n",
    "# and this output is not converging as expected.. it may have to do\n",
    "# with the `move` function bug; your next task!\n",
    "#\n",
    "# When you are satisfied that everything is working, continue\n",
    "# to the next section"
   ]
  },
  {
   "cell_type": "markdown",
   "metadata": {},
   "source": [
    "### Part 3: Identify and Reproduce a Bug\n",
    "\n",
    "Software has bugs. That's okay.\n",
    "\n",
    "A user of your robot called tech support with a complaint\n",
    "\"So I was using your robot in a square room and everything was fine. Then I tried loading in a map for a rectangular room and it drove around for a couple seconds and then suddenly stopped working. Fix it!\"\n",
    "\n",
    "Now we have to debug. We are going to use a systematic approach.\n",
    "\n",
    "    Reproduce the bug\n",
    "    Read (and understand) the error message (when one exists)\n",
    "    Write a test that triggers the bug.\n",
    "    Generate a hypothesis for the cause of the bug.\n",
    "    Try a solution. If it fixes the bug, great! If not, go back to step 4."
   ]
  },
  {
   "cell_type": "markdown",
   "metadata": {},
   "source": [
    "### Step 1: Reproduce the bug\n",
    "\n",
    "The user said that rectangular environments seem to be causing the bug.\n",
    "\n",
    "The code below is the same as the code you were working with when you were doing integration testing of your new feature. See if you can modify it to reproduce the bug."
   ]
  },
  {
   "cell_type": "code",
   "execution_count": 9,
   "metadata": {
    "scrolled": true
   },
   "outputs": [
    {
     "name": "stdout",
     "output_type": "stream",
     "text": [
      "initialize_beliefs:  [[0.03571428571428571, 0.03571428571428571, 0.03571428571428571, 0.03571428571428571, 0.03571428571428571, 0.03571428571428571, 0.03571428571428571], [0.03571428571428571, 0.03571428571428571, 0.03571428571428571, 0.03571428571428571, 0.03571428571428571, 0.03571428571428571, 0.03571428571428571], [0.03571428571428571, 0.03571428571428571, 0.03571428571428571, 0.03571428571428571, 0.03571428571428571, 0.03571428571428571, 0.03571428571428571], [0.03571428571428571, 0.03571428571428571, 0.03571428571428571, 0.03571428571428571, 0.03571428571428571, 0.03571428571428571, 0.03571428571428571]]\n",
      "All colors: ['r', 'g']\n",
      "New Beliefs:  [[0.0006203473945409429, 0.06203473945409429, 0.06203473945409429, 0.06203473945409429, 0.0006203473945409429, 0.0006203473945409429, 0.0006203473945409429], [0.06203473945409429, 0.06203473945409429, 0.0006203473945409429, 0.06203473945409429, 0.0006203473945409429, 0.06203473945409429, 0.0006203473945409429], [0.06203473945409429, 0.0006203473945409429, 0.06203473945409429, 0.06203473945409429, 0.06203473945409429, 0.06203473945409429, 0.0006203473945409429], [0.0006203473945409429, 0.0006203473945409429, 0.06203473945409429, 0.0006203473945409429, 0.06203473945409429, 0.06203473945409429, 0.06203473945409429]]\n",
      "dy value is  0 dx value is  -1\n",
      "Move  [[0.06203473945409429, 0.06203473945409429, 0.06203473945409429, 0.0006203473945409429, 0.0006203473945409429, 0.0006203473945409429, 0.0006203473945409429], [0.06203473945409429, 0.0006203473945409429, 0.06203473945409429, 0.0006203473945409429, 0.06203473945409429, 0.0006203473945409429, 0.06203473945409429], [0.0006203473945409429, 0.06203473945409429, 0.06203473945409429, 0.06203473945409429, 0.06203473945409429, 0.0006203473945409429, 0.06203473945409429], [0.0006203473945409429, 0.06203473945409429, 0.0006203473945409429, 0.06203473945409429, 0.06203473945409429, 0.06203473945409429, 0.0006203473945409429]] \n",
      "\n",
      "Blur Value:  0.001\n"
     ]
    },
    {
     "data": {
      "image/png": "[encoded data removed]",
      "text/plain": [
       "<Figure size 432x288 with 1 Axes>"
      ]
     },
     "metadata": {
      "needs_background": "light"
     },
     "output_type": "display_data"
    }
   ],
   "source": [
    "from simulate import Simulation\n",
    "import simulate as sim\n",
    "import helpers\n",
    "# reload(localizer)\n",
    "# reload(sim)\n",
    "# reload(helpers)\n",
    "\n",
    "R = 'r'\n",
    "G = 'g'\n",
    "\n",
    "grid = [ \n",
    "    [R,G,G,G,R,R,R],\n",
    "    [G,G,R,G,R,G,R],\n",
    "    [G,R,G,G,G,G,R],\n",
    "    [R,R,G,R,G,G,G],\n",
    "]\n",
    "\n",
    "blur = 0.001\n",
    "p_hit = 100.0\n",
    "simulation = sim.Simulation(grid, blur, p_hit)\n",
    "\n",
    "# remember, the user said that the robot would sometimes drive around for a bit...\n",
    "# It may take several calls to \"simulation.run\" to actually trigger the bug.\n",
    "simulation.run(1)\n",
    "simulation.show_beliefs()"
   ]
  },
  {
   "cell_type": "markdown",
   "metadata": {},
   "source": [
    "### Step 3: Write a test that reproduces the bug\n",
    "\n",
    "This will help you know when you've fixed it and help you make sure you never reintroduce it in the future. You might have to try many potential solutions, so it will be nice to have a single function to call to confirm whether or not the bug is fixed"
   ]
  },
  {
   "cell_type": "code",
   "execution_count": 15,
   "metadata": {
    "scrolled": true
   },
   "outputs": [
    {
     "name": "stdout",
     "output_type": "stream",
     "text": [
      "initialize_beliefs:  [[0.03571428571428571, 0.03571428571428571, 0.03571428571428571, 0.03571428571428571, 0.03571428571428571, 0.03571428571428571, 0.03571428571428571], [0.03571428571428571, 0.03571428571428571, 0.03571428571428571, 0.03571428571428571, 0.03571428571428571, 0.03571428571428571, 0.03571428571428571], [0.03571428571428571, 0.03571428571428571, 0.03571428571428571, 0.03571428571428571, 0.03571428571428571, 0.03571428571428571, 0.03571428571428571], [0.03571428571428571, 0.03571428571428571, 0.03571428571428571, 0.03571428571428571, 0.03571428571428571, 0.03571428571428571, 0.03571428571428571]]\n",
      "All colors: ['r', 'g']\n",
      "New Beliefs:  [[0.0006203473945409429, 0.06203473945409429, 0.06203473945409429, 0.06203473945409429, 0.0006203473945409429, 0.0006203473945409429, 0.0006203473945409429], [0.06203473945409429, 0.06203473945409429, 0.0006203473945409429, 0.06203473945409429, 0.0006203473945409429, 0.06203473945409429, 0.0006203473945409429], [0.06203473945409429, 0.0006203473945409429, 0.06203473945409429, 0.06203473945409429, 0.06203473945409429, 0.06203473945409429, 0.0006203473945409429], [0.0006203473945409429, 0.0006203473945409429, 0.06203473945409429, 0.0006203473945409429, 0.06203473945409429, 0.06203473945409429, 0.06203473945409429]]\n",
      "dy value is  1 dx value is  0\n",
      "Move  [[0.0006203473945409429, 0.0006203473945409429, 0.06203473945409429, 0.0006203473945409429, 0.06203473945409429, 0.06203473945409429, 0.06203473945409429], [0.0006203473945409429, 0.06203473945409429, 0.06203473945409429, 0.06203473945409429, 0.0006203473945409429, 0.0006203473945409429, 0.0006203473945409429], [0.06203473945409429, 0.06203473945409429, 0.0006203473945409429, 0.06203473945409429, 0.0006203473945409429, 0.06203473945409429, 0.0006203473945409429], [0.06203473945409429, 0.0006203473945409429, 0.06203473945409429, 0.06203473945409429, 0.06203473945409429, 0.06203473945409429, 0.0006203473945409429]] \n",
      "\n",
      "Blur Value:  0.001\n",
      "initialize_beliefs:  [[0.03571428571428571, 0.03571428571428571, 0.03571428571428571, 0.03571428571428571, 0.03571428571428571, 0.03571428571428571, 0.03571428571428571], [0.03571428571428571, 0.03571428571428571, 0.03571428571428571, 0.03571428571428571, 0.03571428571428571, 0.03571428571428571, 0.03571428571428571], [0.03571428571428571, 0.03571428571428571, 0.03571428571428571, 0.03571428571428571, 0.03571428571428571, 0.03571428571428571, 0.03571428571428571], [0.03571428571428571, 0.03571428571428571, 0.03571428571428571, 0.03571428571428571, 0.03571428571428571, 0.03571428571428571, 0.03571428571428571]]\n",
      "All colors: ['r', 'g']\n",
      "New Beliefs:  [[0.0006203473945409429, 0.06203473945409429, 0.06203473945409429, 0.06203473945409429, 0.0006203473945409429, 0.0006203473945409429, 0.0006203473945409429], [0.06203473945409429, 0.06203473945409429, 0.0006203473945409429, 0.06203473945409429, 0.0006203473945409429, 0.06203473945409429, 0.0006203473945409429], [0.06203473945409429, 0.0006203473945409429, 0.06203473945409429, 0.06203473945409429, 0.06203473945409429, 0.06203473945409429, 0.0006203473945409429], [0.0006203473945409429, 0.0006203473945409429, 0.06203473945409429, 0.0006203473945409429, 0.06203473945409429, 0.06203473945409429, 0.06203473945409429]]\n",
      "dy value is  0 dx value is  -1\n",
      "Move  [[0.06203473945409429, 0.06203473945409429, 0.06203473945409429, 0.0006203473945409429, 0.0006203473945409429, 0.0006203473945409429, 0.0006203473945409429], [0.06203473945409429, 0.0006203473945409429, 0.06203473945409429, 0.0006203473945409429, 0.06203473945409429, 0.0006203473945409429, 0.06203473945409429], [0.0006203473945409429, 0.06203473945409429, 0.06203473945409429, 0.06203473945409429, 0.06203473945409429, 0.0006203473945409429, 0.06203473945409429], [0.0006203473945409429, 0.06203473945409429, 0.0006203473945409429, 0.06203473945409429, 0.06203473945409429, 0.06203473945409429, 0.0006203473945409429]] \n",
      "\n",
      "Blur Value:  0.001\n",
      "initialize_beliefs:  [[0.03571428571428571, 0.03571428571428571, 0.03571428571428571, 0.03571428571428571, 0.03571428571428571, 0.03571428571428571, 0.03571428571428571], [0.03571428571428571, 0.03571428571428571, 0.03571428571428571, 0.03571428571428571, 0.03571428571428571, 0.03571428571428571, 0.03571428571428571], [0.03571428571428571, 0.03571428571428571, 0.03571428571428571, 0.03571428571428571, 0.03571428571428571, 0.03571428571428571, 0.03571428571428571], [0.03571428571428571, 0.03571428571428571, 0.03571428571428571, 0.03571428571428571, 0.03571428571428571, 0.03571428571428571, 0.03571428571428571]]\n",
      "All colors: ['r', 'g']\n",
      "New Beliefs:  [[0.0006203473945409429, 0.06203473945409429, 0.06203473945409429, 0.06203473945409429, 0.0006203473945409429, 0.0006203473945409429, 0.0006203473945409429], [0.06203473945409429, 0.06203473945409429, 0.0006203473945409429, 0.06203473945409429, 0.0006203473945409429, 0.06203473945409429, 0.0006203473945409429], [0.06203473945409429, 0.0006203473945409429, 0.06203473945409429, 0.06203473945409429, 0.06203473945409429, 0.06203473945409429, 0.0006203473945409429], [0.0006203473945409429, 0.0006203473945409429, 0.06203473945409429, 0.0006203473945409429, 0.06203473945409429, 0.06203473945409429, 0.06203473945409429]]\n",
      "dy value is  0 dx value is  1\n",
      "Move  [[0.0006203473945409429, 0.0006203473945409429, 0.06203473945409429, 0.06203473945409429, 0.06203473945409429, 0.0006203473945409429, 0.0006203473945409429], [0.0006203473945409429, 0.06203473945409429, 0.06203473945409429, 0.0006203473945409429, 0.06203473945409429, 0.0006203473945409429, 0.06203473945409429], [0.0006203473945409429, 0.06203473945409429, 0.0006203473945409429, 0.06203473945409429, 0.06203473945409429, 0.06203473945409429, 0.06203473945409429], [0.06203473945409429, 0.0006203473945409429, 0.0006203473945409429, 0.06203473945409429, 0.0006203473945409429, 0.06203473945409429, 0.06203473945409429]] \n",
      "\n",
      "Blur Value:  0.001\n",
      "initialize_beliefs:  [[0.03571428571428571, 0.03571428571428571, 0.03571428571428571, 0.03571428571428571, 0.03571428571428571, 0.03571428571428571, 0.03571428571428571], [0.03571428571428571, 0.03571428571428571, 0.03571428571428571, 0.03571428571428571, 0.03571428571428571, 0.03571428571428571, 0.03571428571428571], [0.03571428571428571, 0.03571428571428571, 0.03571428571428571, 0.03571428571428571, 0.03571428571428571, 0.03571428571428571, 0.03571428571428571], [0.03571428571428571, 0.03571428571428571, 0.03571428571428571, 0.03571428571428571, 0.03571428571428571, 0.03571428571428571, 0.03571428571428571]]\n",
      "All colors: ['r', 'g']\n",
      "New Beliefs:  [[0.0006203473945409429, 0.06203473945409429, 0.06203473945409429, 0.06203473945409429, 0.0006203473945409429, 0.0006203473945409429, 0.0006203473945409429], [0.06203473945409429, 0.06203473945409429, 0.0006203473945409429, 0.06203473945409429, 0.0006203473945409429, 0.06203473945409429, 0.0006203473945409429], [0.06203473945409429, 0.0006203473945409429, 0.06203473945409429, 0.06203473945409429, 0.06203473945409429, 0.06203473945409429, 0.0006203473945409429], [0.0006203473945409429, 0.0006203473945409429, 0.06203473945409429, 0.0006203473945409429, 0.06203473945409429, 0.06203473945409429, 0.06203473945409429]]\n",
      "dy value is  0 dx value is  1\n",
      "Move  [[0.0006203473945409429, 0.0006203473945409429, 0.06203473945409429, 0.06203473945409429, 0.06203473945409429, 0.0006203473945409429, 0.0006203473945409429], [0.0006203473945409429, 0.06203473945409429, 0.06203473945409429, 0.0006203473945409429, 0.06203473945409429, 0.0006203473945409429, 0.06203473945409429], [0.0006203473945409429, 0.06203473945409429, 0.0006203473945409429, 0.06203473945409429, 0.06203473945409429, 0.06203473945409429, 0.06203473945409429], [0.06203473945409429, 0.0006203473945409429, 0.0006203473945409429, 0.06203473945409429, 0.0006203473945409429, 0.06203473945409429, 0.06203473945409429]] \n",
      "\n",
      "Blur Value:  0.001\n",
      "initialize_beliefs:  [[0.03571428571428571, 0.03571428571428571, 0.03571428571428571, 0.03571428571428571, 0.03571428571428571, 0.03571428571428571, 0.03571428571428571], [0.03571428571428571, 0.03571428571428571, 0.03571428571428571, 0.03571428571428571, 0.03571428571428571, 0.03571428571428571, 0.03571428571428571], [0.03571428571428571, 0.03571428571428571, 0.03571428571428571, 0.03571428571428571, 0.03571428571428571, 0.03571428571428571, 0.03571428571428571], [0.03571428571428571, 0.03571428571428571, 0.03571428571428571, 0.03571428571428571, 0.03571428571428571, 0.03571428571428571, 0.03571428571428571]]\n",
      "All colors: ['r', 'g']\n",
      "New Beliefs:  [[0.0006203473945409429, 0.06203473945409429, 0.06203473945409429, 0.06203473945409429, 0.0006203473945409429, 0.0006203473945409429, 0.0006203473945409429], [0.06203473945409429, 0.06203473945409429, 0.0006203473945409429, 0.06203473945409429, 0.0006203473945409429, 0.06203473945409429, 0.0006203473945409429], [0.06203473945409429, 0.0006203473945409429, 0.06203473945409429, 0.06203473945409429, 0.06203473945409429, 0.06203473945409429, 0.0006203473945409429], [0.0006203473945409429, 0.0006203473945409429, 0.06203473945409429, 0.0006203473945409429, 0.06203473945409429, 0.06203473945409429, 0.06203473945409429]]\n",
      "dy value is  0 dx value is  -1\n",
      "Move  [[0.06203473945409429, 0.06203473945409429, 0.06203473945409429, 0.0006203473945409429, 0.0006203473945409429, 0.0006203473945409429, 0.0006203473945409429], [0.06203473945409429, 0.0006203473945409429, 0.06203473945409429, 0.0006203473945409429, 0.06203473945409429, 0.0006203473945409429, 0.06203473945409429], [0.0006203473945409429, 0.06203473945409429, 0.06203473945409429, 0.06203473945409429, 0.06203473945409429, 0.0006203473945409429, 0.06203473945409429], [0.0006203473945409429, 0.06203473945409429, 0.0006203473945409429, 0.06203473945409429, 0.06203473945409429, 0.06203473945409429, 0.0006203473945409429]] \n",
      "\n",
      "Blur Value:  0.001\n"
     ]
    }
   ],
   "source": [
    "# According to the user, sometimes the robot actually does run \"for a while\" \n",
    "# - How can you change the code so the robot runs \"for a while\"?\n",
    "# - How many times do you need to call simulation.run() to consistently\n",
    "#   reproduce the bug?\n",
    "# Modify the code below so that when the function is called \n",
    "# it consistently reproduces the bug.\n",
    "def test_robot_works_in_rectangle_world():\n",
    "    from simulate import Simulation\n",
    "    import simulate as sim\n",
    "    import helpers\n",
    "#     reload(localizer)\n",
    "#     reload(sim)\n",
    "#     reload(helpers)\n",
    "\n",
    "    R = 'r'\n",
    "    G = 'g'\n",
    "\n",
    "    grid = [ \n",
    "        [R,G,G,G,R,R,R],\n",
    "        [G,G,R,G,R,G,R],\n",
    "        [G,R,G,G,G,G,R],\n",
    "        [R,R,G,R,G,G,G],\n",
    "    ]\n",
    "\n",
    "    blur = 0.001\n",
    "    p_hit = 100.0\n",
    "    for i in range(5):\n",
    "        simulation = sim.Simulation(grid, blur, p_hit)\n",
    "        simulation.run(1)\n",
    "    \n",
    "test_robot_works_in_rectangle_world()"
   ]
  },
  {
   "cell_type": "code",
   "execution_count": null,
   "metadata": {},
   "outputs": [],
   "source": []
  }
 ],
 "metadata": {
  "kernelspec": {
   "display_name": "Python 3",
   "language": "python",
   "name": "python3"
  },
  "language_info": {
   "codemirror_mode": {
    "name": "ipython",
    "version": 3
   },
   "file_extension": ".py",
   "mimetype": "text/x-python",
   "name": "python",
   "nbconvert_exporter": "python",
   "pygments_lexer": "ipython3",
   "version": "3.7.3"
  }
 },
 "nbformat": 4,
 "nbformat_minor": 2
}
