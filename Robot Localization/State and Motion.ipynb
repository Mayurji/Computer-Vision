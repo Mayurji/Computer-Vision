{
 "cells": [
  {
   "cell_type": "markdown",
   "metadata": {},
   "source": [
    "### What is State?\n",
    "\n",
    "While localizing a car, we are interested in only the car’s position and it’s movement.\n",
    "\n",
    "This is often called the **state of the car.**\n",
    "\n",
    "The state of any system is a set of values that we care about.\n",
    "In the cases we’ve been working with, the state of the car includes the car’s current **position, x,** and its **velocity, v.**"
   ]
  },
  {
   "cell_type": "markdown",
   "metadata": {},
   "source": [
    "### Predicting State\n",
    "\n",
    "The initial state of the car is at the 0m position,and it's moving forward at a velocity of 50 m/s.\n",
    "Let’s assume that our car keeps moving forward at a constant rate.\n",
    "\n",
    "Every second it moves 50m. So, after three seconds, it will have reached the 150m mark and its velocity will not have changed (that's what a constant velocity means)!\n",
    "\n"
   ]
  },
  {
   "cell_type": "markdown",
   "metadata": {},
   "source": [
    "### Motion Model\n",
    "\n",
    "This is a reasonable prediction, and we made it using:\n",
    "\n",
    "    The initial state of the car and\n",
    "    An assumption that the car is moving at a constant velocity.\n",
    "\n",
    "This assumption is based on the physics equation:\n",
    "\n",
    "    distance_traveled = velocity * time\n",
    "\n",
    "This equation is also referred to as a **motion model**. And there are many ways to model motion!"
   ]
  },
  {
   "cell_type": "code",
   "execution_count": 1,
   "metadata": {},
   "outputs": [],
   "source": [
    "# The predict_state function should take in a state\n",
    "# and a change in time, dt (ex. 3 for 3 seconds)\n",
    "# and it should output a new, predicted state\n",
    "# based on a constant motion model\n",
    "# This function also assumes that all units are in m, m/s, s, etc.\n",
    "\n",
    "def predict_state(state, dt):\n",
    "    # Assume that state takes the form [x, vel] i.e. [0, 50]\n",
    "    \n",
    "    ## Calculate the new position, predicted_x\n",
    "    ## Calculate the new velocity, predicted_vel\n",
    "    ## These should be calculated based on the contant motion model:\n",
    "    ## distance = x + velocity*time\n",
    "    \n",
    "    predicted_x = state[0] + state[1] * dt\n",
    "    predicted_vel = state[1]\n",
    "    \n",
    "    # Constructs the predicted state and returns it\n",
    "    predicted_state = [predicted_x, predicted_vel]\n",
    "    return predicted_state\n",
    "\n",
    "# A state and function call for testing purposes - do not delete\n",
    "# but feel free to change the values for the test variables\n",
    "test_state = [10, 3]\n",
    "test_dt = 5\n",
    "\n",
    "test_output = predict_state(test_state, test_dt)"
   ]
  },
  {
   "cell_type": "code",
   "execution_count": 2,
   "metadata": {},
   "outputs": [
    {
     "data": {
      "text/plain": [
       "[25, 3]"
      ]
     },
     "execution_count": 2,
     "metadata": {},
     "output_type": "execute_result"
    }
   ],
   "source": [
    "test_output"
   ]
  },
  {
   "cell_type": "markdown",
   "metadata": {},
   "source": [
    "### Creating 2D world and an Car Object to traverse the 2D world"
   ]
  },
  {
   "cell_type": "code",
   "execution_count": 51,
   "metadata": {},
   "outputs": [],
   "source": [
    "import numpy as np\n",
    "import car\n",
    "\n",
    "%matplotlib inline"
   ]
  },
  {
   "cell_type": "code",
   "execution_count": 56,
   "metadata": {},
   "outputs": [],
   "source": [
    "# Create a 2D world of 0's\n",
    "height = 4\n",
    "width = 4\n",
    "world = np.zeros((height, width))\n",
    "\n",
    "# Define the initial car state\n",
    "initial_position = [0, 0] # [y, x] (top-left corner)\n",
    "velocity = [0, 1] # [vy, vx] (moving to the right)"
   ]
  },
  {
   "cell_type": "code",
   "execution_count": 57,
   "metadata": {},
   "outputs": [
    {
     "name": "stdout",
     "output_type": "stream",
     "text": [
      "Car's initial state is: [[0, 0], [0, 1]]\n"
     ]
    }
   ],
   "source": [
    "# Create a car object with these initial params\n",
    "car_obj = car.Car(initial_position, velocity, world)\n",
    "\n",
    "print('Car\\'s initial state is: ' + str(car_obj.state))"
   ]
  },
  {
   "cell_type": "code",
   "execution_count": 58,
   "metadata": {},
   "outputs": [
    {
     "name": "stdout",
     "output_type": "stream",
     "text": [
      "Car's state is: [[0, 3], [0, 1]]\n"
     ]
    },
    {
     "data": {
      "image/png": "[encoded data removed]",
      "text/plain": [
       "<Figure size 288x288 with 1 Axes>"
      ]
     },
     "metadata": {
      "needs_background": "light"
     },
     "output_type": "display_data"
    }
   ],
   "source": [
    "# Move in the direction of the initial velocity\n",
    "car_obj.move()\n",
    "car_obj.move()\n",
    "car_obj.move()\n",
    "# Track the change in state\n",
    "print('Car\\'s state is: ' + str(car_obj.state))\n",
    "\n",
    "# Display the world\n",
    "car_obj.display_world()"
   ]
  },
  {
   "cell_type": "code",
   "execution_count": 59,
   "metadata": {},
   "outputs": [
    {
     "data": {
      "image/png": "[encoded data removed]",
      "text/plain": [
       "<Figure size 288x288 with 1 Axes>"
      ]
     },
     "metadata": {
      "needs_background": "light"
     },
     "output_type": "display_data"
    }
   ],
   "source": [
    "car_obj.turn_left()\n",
    "car_obj.move()\n",
    "car_obj.move()\n",
    "car_obj.move()\n",
    "car_obj.display_world()"
   ]
  },
  {
   "cell_type": "code",
   "execution_count": 60,
   "metadata": {},
   "outputs": [
    {
     "data": {
      "image/png": "[encoded data removed]",
      "text/plain": [
       "<Figure size 288x288 with 1 Axes>"
      ]
     },
     "metadata": {
      "needs_background": "light"
     },
     "output_type": "display_data"
    }
   ],
   "source": [
    "car_obj.turn_left()\n",
    "car_obj.display_world()"
   ]
  },
  {
   "cell_type": "code",
   "execution_count": 61,
   "metadata": {},
   "outputs": [
    {
     "data": {
      "image/png": "[encoded data removed]",
      "text/plain": [
       "<Figure size 288x288 with 1 Axes>"
      ]
     },
     "metadata": {
      "needs_background": "light"
     },
     "output_type": "display_data"
    }
   ],
   "source": [
    "car_obj.turn_left()\n",
    "car_obj.display_world()"
   ]
  },
  {
   "cell_type": "code",
   "execution_count": null,
   "metadata": {},
   "outputs": [],
   "source": []
  }
 ],
 "metadata": {
  "kernelspec": {
   "display_name": "Python 3",
   "language": "python",
   "name": "python3"
  },
  "language_info": {
   "codemirror_mode": {
    "name": "ipython",
    "version": 3
   },
   "file_extension": ".py",
   "mimetype": "text/x-python",
   "name": "python",
   "nbconvert_exporter": "python",
   "pygments_lexer": "ipython3",
   "version": "3.7.3"
  }
 },
 "nbformat": 4,
 "nbformat_minor": 2
}
